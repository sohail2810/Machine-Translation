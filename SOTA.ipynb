{
 "cells": [
  {
   "cell_type": "code",
   "execution_count": 1,
   "id": "201704c4",
   "metadata": {},
   "outputs": [],
   "source": [
    "import pandas as pd\n",
    "import os\n",
    "import re\n",
    "import torch\n",
    "\n",
    "from io import StringIO\n",
    "from rouge_score import rouge_scorer\n",
    "from sacrebleu.metrics import BLEU\n",
    "from tqdm import tqdm\n",
    "from transformers import pipeline\n",
    "from transformers import MarianMTModel, MarianTokenizer\n",
    "\n",
    "os.environ[\"CUDA_VISIBLE_DEVICES\"]=\"1\""
   ]
  },
  {
   "cell_type": "code",
   "execution_count": 2,
   "id": "f6f2499b",
   "metadata": {},
   "outputs": [],
   "source": [
    "file_path = 'data/eng-spa.txt'\n",
    "try:\n",
    "    with open(file_path, 'r') as file:\n",
    "        data = file.read()\n",
    "except FileNotFoundError:\n",
    "    print(\"The specified file was not found.\")\n",
    "except Exception as e:\n",
    "    print(\"An error occurred:\", e)"
   ]
  },
  {
   "cell_type": "code",
   "execution_count": 3,
   "id": "eaa4601c",
   "metadata": {},
   "outputs": [],
   "source": [
    "columns = ['English', 'Spanish']\n",
    "df = []\n",
    "for line in data.split('\\n'):\n",
    "    if line:\n",
    "        english, spanish, *_ = line.split('\\t')\n",
    "        df.append([english, spanish])\n",
    "\n",
    "df = pd.DataFrame(df, columns=columns)"
   ]
  },
  {
   "cell_type": "code",
   "execution_count": 4,
   "id": "125bb99e",
   "metadata": {},
   "outputs": [],
   "source": [
    "# Removing full stops and punctuation\n",
    "df['English'] = df['English'].apply(lambda x: re.sub(r'[^\\w\\s]', '', x))\n",
    "df['Spanish'] = df['Spanish'].apply(lambda x: re.sub(r'[^\\w\\s]', '', x))\n",
    "df['English'] = df['English'].str.lower()\n",
    "df['Spanish'] = df['Spanish'].str.lower()\n",
    "shuffled_df = df.sample(frac=1).reset_index(drop=True)\n",
    "df = shuffled_df[:24000]\n"
   ]
  },
  {
   "cell_type": "code",
   "execution_count": null,
   "id": "f9b6c7dc",
   "metadata": {},
   "outputs": [
    {
     "name": "stdout",
     "output_type": "stream",
     "text": [
      "Using device: cuda\n"
     ]
    },
    {
     "name": "stderr",
     "output_type": "stream",
     "text": [
      "  1%|          | 126/24000 [00:13<49:14,  8.08it/s]"
     ]
    }
   ],
   "source": [
    "device = torch.device(\"cuda\" if torch.cuda.is_available() else \"cpu\")\n",
    "print(f\"Using device: {device}\")\n",
    "model_name = 'Helsinki-NLP/opus-mt-es-en'  # Spanish to English model\n",
    "model = MarianMTModel.from_pretrained(model_name).to(device)\n",
    "tokenizer = MarianTokenizer.from_pretrained(model_name)\n",
    "translated_sentences = []\n",
    "for sentence in tqdm(df['Spanish']):\n",
    "    inputs = tokenizer.encode(sentence, return_tensors=\"pt\").to(device)\n",
    "    translated = model.generate(inputs)\n",
    "    translated_text = tokenizer.decode(translated[0], skip_special_tokens=True)\n",
    "    translated_sentences.append(translated_text)\n",
    "\n",
    "df['Translated_English'] = translated_sentences\n"
   ]
  },
  {
   "cell_type": "code",
   "execution_count": null,
   "id": "b38c170d",
   "metadata": {},
   "outputs": [],
   "source": [
    "df['Translated_English'] = df['Translated_English'].apply(lambda x: re.sub(r'[^\\w\\s]', '', x))\n",
    "df['Translated_English'] = df['Translated_English'].str.lower()"
   ]
  },
  {
   "cell_type": "code",
   "execution_count": null,
   "id": "c412cdc8",
   "metadata": {},
   "outputs": [],
   "source": [
    "eng_ref = df['English'].tolist()\n",
    "eng_hyp = df['Translated_English'].tolist()\n",
    "bleu = BLEU()\n",
    "result = bleu.corpus_score(eng_ref, [eng_hyp])"
   ]
  },
  {
   "cell_type": "code",
   "execution_count": null,
   "id": "9095ff4c",
   "metadata": {},
   "outputs": [],
   "source": [
    "result"
   ]
  },
  {
   "cell_type": "code",
   "execution_count": null,
   "id": "427f22e1",
   "metadata": {},
   "outputs": [],
   "source": [
    "total_r1 = 0\n",
    "total_r2 = 0\n",
    "total_rl = 0\n",
    "scorer = rouge_scorer.RougeScorer(['rouge1', 'rouge2', 'rougeL'], use_stemmer=True)\n",
    "\n",
    "for pred, target in zip(eng_hyp, eng_ref):\n",
    "    scores = scorer.score(pred, target)\n",
    "    total_r1 += scores['rouge1'].fmeasure\n",
    "    total_r2 += scores['rouge2'].fmeasure\n",
    "    total_rl += scores['rougeL'].fmeasure\n",
    "    \n",
    "print(\"ROGUE-1\", 100*total_r1/len(eng_hyp))\n",
    "print(\"ROGUE-2\", 100*total_r2/len(eng_hyp))\n",
    "print(\"ROGUE-L\", 100*total_rl/len(eng_hyp))"
   ]
  },
  {
   "cell_type": "code",
   "execution_count": null,
   "id": "272c96d9",
   "metadata": {},
   "outputs": [],
   "source": [
    "input_sents = df[\"Spanish\"].to_list()\n",
    "target_sents = df[\"English\"].to_list()\n",
    "pred_sents = df[\"Translated_English\"].to_list()\n"
   ]
  },
  {
   "cell_type": "code",
   "execution_count": null,
   "id": "438efc80",
   "metadata": {},
   "outputs": [],
   "source": [
    "print(\"Input Sentence:\", input_sents[0])\n",
    "print(\"Target Sentence:\", target_sents[0])\n",
    "print(\"Predicted Sentence:\", pred_sents[0])\n"
   ]
  },
  {
   "cell_type": "code",
   "execution_count": null,
   "id": "607f9229",
   "metadata": {},
   "outputs": [],
   "source": [
    "print(\"Input Sentence:\", input_sents[1])\n",
    "print(\"Target Sentence:\", target_sents[1])\n",
    "print(\"Predicted Sentence:\", pred_sents[1])\n"
   ]
  },
  {
   "cell_type": "code",
   "execution_count": null,
   "id": "5d926878",
   "metadata": {},
   "outputs": [],
   "source": [
    "print(\"Input Sentence:\", input_sents[5])\n",
    "print(\"Target Sentence:\", target_sents[5])\n",
    "print(\"Predicted Sentence:\", pred_sents[5])\n"
   ]
  },
  {
   "cell_type": "code",
   "execution_count": null,
   "id": "e62f1d70",
   "metadata": {},
   "outputs": [],
   "source": [
    "print(\"Input Sentence:\", input_sents[-6])\n",
    "print(\"Target Sentence:\", target_sents[-6])\n",
    "print(\"Predicted Sentence:\", pred_sents[-6])\n"
   ]
  },
  {
   "cell_type": "code",
   "execution_count": null,
   "id": "3c020018",
   "metadata": {},
   "outputs": [],
   "source": []
  }
 ],
 "metadata": {
  "kernelspec": {
   "display_name": "Python 3 (ipykernel)",
   "language": "python",
   "name": "python3"
  },
  "language_info": {
   "codemirror_mode": {
    "name": "ipython",
    "version": 3
   },
   "file_extension": ".py",
   "mimetype": "text/x-python",
   "name": "python",
   "nbconvert_exporter": "python",
   "pygments_lexer": "ipython3",
   "version": "3.9.13"
  }
 },
 "nbformat": 4,
 "nbformat_minor": 5
}
